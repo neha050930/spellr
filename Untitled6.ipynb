{
 "cells": [
  {
   "cell_type": "code",
   "execution_count": 1,
   "id": "8491ecbb-ebd7-40b3-ac46-7ba36b5df5d8",
   "metadata": {},
   "outputs": [
    {
     "name": "stdout",
     "output_type": "stream",
     "text": [
      "Misspelled words and suggestions:\n",
      "automotivess: ['automotinjnvess']\n",
      "construction/facilities: ['construction/facjnjnilities']\n",
      "healthcare: ['healthjhjjcare']\n",
      "aids: ['aidshh']\n"
     ]
    }
   ],
   "source": [
    "def initialize_matrix(rows, columns, initial=0):\n",
    "    return [[initial] * columns for _ in range(rows)]\n",
    "\n",
    "def edit_distance(s1, s2):\n",
    "    len_s1 = len(s1)\n",
    "    len_s2 = len(s2)\n",
    "    \n",
    "    dp = initialize_matrix(len_s1 + 1, len_s2 + 1)\n",
    "\n",
    "    for i in range(len_s1 + 1):\n",
    "        dp[i][0] = i\n",
    "\n",
    "    for j in range(len_s2 + 1):\n",
    "        dp[0][j] = j\n",
    "\n",
    "    for i in range(1, len_s1 + 1):\n",
    "        for j in range(1, len_s2 + 1):\n",
    "            if s1[i - 1] == s2[j - 1]:\n",
    "                dp[i][j] = dp[i - 1][j - 1]\n",
    "            else:\n",
    "                dp[i][j] = min(dp[i - 1][j], dp[i][j - 1], dp[i - 1][j - 1]) + 1\n",
    "\n",
    "    return dp[len_s1][len_s2]\n",
    "\n",
    "def suggest_corrections(word, dictionary):\n",
    "    suggestions = [w for w in dictionary if edit_distance(word, w) <= max(len(word), len(w)) // 2]\n",
    "    return suggestions\n",
    "\n",
    "def identify_misspelled_words(text, dictionary):\n",
    "    misspelled_words = {}\n",
    "    words = [word.strip(\".,?!;:'\\\"()[]/{}\") for word in text.split()]\n",
    "    for word in words:\n",
    "        if word.lower() not in dictionary:\n",
    "            suggestions = suggest_corrections(word, dictionary)\n",
    "            if suggestions:\n",
    "                misspelled_words[word] = suggestions\n",
    "    return misspelled_words\n",
    "\n",
    "df_filepath = r\"C:\\Users\\ACER\\Downloads\\industry.csv\"\n",
    "with open(df_filepath, \"r\") as file:\n",
    "    df_tokens = []\n",
    "    for line in file:\n",
    "        elements = line.strip().split(',')\n",
    "        for element in elements:\n",
    "            tokens = element.lower().strip().split(',')\n",
    "            df_tokens.extend(tokens)\n",
    "\n",
    "df_text = \" \".join(df_tokens)\n",
    "\n",
    "dictionary_file_path = r\"C:\\Users\\ACER\\Downloads\\industry.2.txt\"\n",
    "with open(dictionary_file_path, 'r') as file:\n",
    "    dictionary_content = file.read().lower().split()\n",
    "\n",
    "misspelled_words = identify_misspelled_words(df_text, dictionary_content)\n",
    "\n",
    "if misspelled_words:\n",
    "    print(\"Misspelled words and suggestions:\")\n",
    "    for word, suggestion_list in misspelled_words.items():\n",
    "        print(f\"{word}: {suggestion_list}\")\n",
    "else:\n",
    "    print(\"No misspelled words found.\")\n"
   ]
  },
  {
   "cell_type": "code",
   "execution_count": null,
   "id": "559c4133-3bf9-4bf6-b628-6bd942a9ae11",
   "metadata": {},
   "outputs": [],
   "source": []
  }
 ],
 "metadata": {
  "kernelspec": {
   "display_name": "Python 3 (ipykernel)",
   "language": "python",
   "name": "python3"
  },
  "language_info": {
   "codemirror_mode": {
    "name": "ipython",
    "version": 3
   },
   "file_extension": ".py",
   "mimetype": "text/x-python",
   "name": "python",
   "nbconvert_exporter": "python",
   "pygments_lexer": "ipython3",
   "version": "3.12.2"
  }
 },
 "nbformat": 4,
 "nbformat_minor": 5
}
